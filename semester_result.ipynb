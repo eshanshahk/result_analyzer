{
 "cells": [
  {
   "cell_type": "code",
   "execution_count": 79,
   "metadata": {},
   "outputs": [],
   "source": [
    "#Rows - Reg No, Name, Aec, SL, MDC, Major, Minor 1, Minor 2,SGPA, Backlogs"
   ]
  },
  {
   "cell_type": "code",
   "execution_count": 80,
   "metadata": {},
   "outputs": [],
   "source": [
    "import pandas as pd\n",
    "import pdfplumber as pp\n",
    "import os"
   ]
  },
  {
   "cell_type": "code",
   "execution_count": 81,
   "metadata": {},
   "outputs": [],
   "source": [
    "folder_path = r'D:\\GIt\\result_analyzer\\results'"
   ]
  },
  {
   "cell_type": "code",
   "execution_count": 82,
   "metadata": {},
   "outputs": [],
   "source": [
    "names=[]\n",
    "roll_no=[]\n",
    "Sgpa=[]\n",
    "aec=[]\n",
    "major=[]\n",
    "SL=[]\n",
    "mdc=[]\n",
    "minor1=[]\n",
    "minor2=[]"
   ]
  },
  {
   "cell_type": "code",
   "execution_count": 83,
   "metadata": {},
   "outputs": [],
   "source": [
    "for filename in os.listdir(folder_path):\n",
    "    if filename.endswith(\".pdf\"):\n",
    "        file_path=os.path.join(folder_path,filename)\n",
    "        #print(f\"\\n Reading file: {filename}\")\n",
    "\n",
    "        with pp.open(file_path) as pdf:\n",
    "            page=pdf.pages[0]\n",
    "\n",
    "            page_text=page.extract_text()\n",
    "            if page_text:\n",
    "                lines=page_text.splitlines()\n",
    "                for line in lines:\n",
    "                    if \"Reg No\" in line:\n",
    "                        reg_no = line.split(\"Reg No\")[-1].replace(\":\", \"\").strip(\".\")\n",
    "                        roll_no.append(reg_no)\n",
    "\n",
    "                    elif line.startswith(\"Name:\"):\n",
    "                        name=line.split(\"Name:\")[1].strip()\n",
    "                        names.append(name)\n",
    "                        \n",
    "                    elif line.startswith(\"SGPA:\"):\n",
    "                        sgpa = line.split(\"SGPA:\")[-1].strip().split()[0]\n",
    "                        try:\n",
    "                            Sgpa.append(float(sgpa))\n",
    "                        except ValueError:\n",
    "                            Sgpa.append(0.0)\n",
    "                    elif line.startswith(\"KU2AECENG105\"):\n",
    "                        parts=line.split()\n",
    "                        try:\n",
    "                            grade = parts[-3]  \n",
    "                            aec.append(grade)\n",
    "                        except IndexError:\n",
    "                            aec.append(\"-\")\n",
    "                    elif line.startswith(\"KU2DSCCAP106\"):\n",
    "                        parts=line.split()\n",
    "                        try:\n",
    "                            grade = parts[-3]  \n",
    "                            major.append(grade)\n",
    "                        except IndexError:\n",
    "                            major.append(\"-\")\n",
    "                    elif line.startswith((\"KU2AECARB106\",\"KU2AECHIN104\",\"KU2AECMAL104\")):\n",
    "                        parts=line.split()\n",
    "                        try:\n",
    "                            grade = parts[-3]  \n",
    "                            SL.append(grade)\n",
    "                        except IndexError:\n",
    "                            SL.append(\"-\")\n",
    "                    elif line.startswith((\"KU2MDCENG105\",\"KU2MDCMAT101\",\"KU2MDCARB104\",\"KU2MDCMAL102\",\"KU2MDCCOM102\",\"KU2MDCHIN102\")):\n",
    "                        parts=line.split()\n",
    "                        try:\n",
    "                            grade = parts[-3]  \n",
    "                            mdc.append(grade)\n",
    "                        except IndexError:\n",
    "                            mdc.append(\"-\")     \n",
    "                    elif line.startswith((\"KU2DSCMAT111\",\"KU2DSCPHL104\")):\n",
    "                        parts=line.split()\n",
    "                        try:\n",
    "                            grade = parts[-3]  \n",
    "                            minor1.append(grade)\n",
    "                        except IndexError:\n",
    "                            minor1.append(\"-\") \n",
    "                    elif line.startswith((\"KU2DSCCOM109\")):\n",
    "                        parts=line.split()\n",
    "                        try:\n",
    "                            grade = parts[-3]  \n",
    "                            minor2.append(grade)\n",
    "                        except IndexError:\n",
    "                            minor2.append(\"-\") \n"
   ]
  },
  {
   "cell_type": "code",
   "execution_count": 84,
   "metadata": {},
   "outputs": [],
   "source": [
    "target_len = len(names)  # master length\n",
    "\n",
    "def pad(lst):\n",
    "    while len(lst) < target_len:\n",
    "        lst.append(\"-\")\n",
    "    return lst\n",
    "\n",
    "roll_no = pad(roll_no)\n",
    "aec = pad(aec)\n",
    "major = pad(major)\n",
    "SL = pad(SL)\n",
    "mdc = pad(mdc)\n",
    "minor1 = pad(minor1)\n",
    "minor2 = pad(minor2)\n",
    "Sgpa = pad(Sgpa)"
   ]
  },
  {
   "cell_type": "code",
   "execution_count": 85,
   "metadata": {},
   "outputs": [],
   "source": [
    "df= pd.DataFrame({\n",
    "    'Name':names,\n",
    "    'Reg_no':roll_no,\n",
    "    'AEC':aec,\n",
    "    'Major':major,\n",
    "    'SL': SL,\n",
    "    'MDC':mdc,\n",
    "    'MINOR1':minor1,\n",
    "    'MINOR2':minor2,\n",
    "    'SGPA':Sgpa\n",
    "})"
   ]
  },
  {
   "cell_type": "code",
   "execution_count": 86,
   "metadata": {},
   "outputs": [],
   "source": [
    "df.to_excel('semester2.xlsx',index=False)"
   ]
  },
  {
   "cell_type": "code",
   "execution_count": 88,
   "metadata": {},
   "outputs": [],
   "source": [
    "import openpyxl\n",
    "from openpyxl.styles import Border,Side\n",
    "\n",
    "# Load the workbook and worksheet\n",
    "wb = openpyxl.load_workbook('semester2.xlsx')\n",
    "ws = wb.active\n",
    "\n",
    "thin_border = Border(\n",
    "    left=Side(style='thin'),\n",
    "    right=Side(style='thin'),\n",
    "    top=Side(style='thin'),\n",
    "    bottom=Side(style='thin')\n",
    ")\n",
    "\n",
    "\n",
    "# Auto-adjust column widths\n",
    "for col in ws.columns:\n",
    "    max_length = 0\n",
    "    column = col[0].column_letter  # Get the column letter (e.g., A, B, C)\n",
    "    for cell in col:\n",
    "        cell.border = thin_border\n",
    "        try:\n",
    "            if cell.value:\n",
    "                max_length = max(max_length, len(str(cell.value)))\n",
    "        except:\n",
    "            pass\n",
    "    adjusted_width = max_length + 2  # Add a little extra padding\n",
    "    ws.column_dimensions[column].width = adjusted_width\n",
    "\n",
    "# Save the updated workbook\n",
    "wb.save('semester2.xlsx')"
   ]
  },
  {
   "cell_type": "code",
   "execution_count": null,
   "metadata": {},
   "outputs": [],
   "source": []
  }
 ],
 "metadata": {
  "kernelspec": {
   "display_name": "Python 3",
   "language": "python",
   "name": "python3"
  },
  "language_info": {
   "codemirror_mode": {
    "name": "ipython",
    "version": 3
   },
   "file_extension": ".py",
   "mimetype": "text/x-python",
   "name": "python",
   "nbconvert_exporter": "python",
   "pygments_lexer": "ipython3",
   "version": "3.13.3"
  }
 },
 "nbformat": 4,
 "nbformat_minor": 2
}
